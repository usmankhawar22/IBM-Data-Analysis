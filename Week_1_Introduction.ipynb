{
  "nbformat": 4,
  "nbformat_minor": 0,
  "metadata": {
    "anaconda-cloud": {},
    "kernelspec": {
      "display_name": "Python 3",
      "language": "python",
      "name": "python3"
    },
    "language_info": {
      "codemirror_mode": {
        "name": "ipython",
        "version": 3
      },
      "file_extension": ".py",
      "mimetype": "text/x-python",
      "name": "python",
      "nbconvert_exporter": "python",
      "pygments_lexer": "ipython3",
      "version": "3.6.8"
    },
    "colab": {
      "name": " Week 1 - Introduction.ipynb",
      "provenance": [],
      "include_colab_link": true
    }
  },
  "cells": [
    {
      "cell_type": "markdown",
      "metadata": {
        "id": "view-in-github",
        "colab_type": "text"
      },
      "source": [
        "<a href=\"https://colab.research.google.com/github/usmankhawar22/IBM-Data-Analysis/blob/master/Week_1_Introduction.ipynb\" target=\"_parent\"><img src=\"https://colab.research.google.com/assets/colab-badge.svg\" alt=\"Open In Colab\"/></a>"
      ]
    },
    {
      "cell_type": "code",
      "metadata": {
        "id": "g1ZgamIzWNTN",
        "colab_type": "code",
        "colab": {}
      },
      "source": [
        "# import pandas library\n",
        "import pandas as pd"
      ],
      "execution_count": null,
      "outputs": []
    },
    {
      "cell_type": "markdown",
      "metadata": {
        "id": "YCqXZJBSWNTZ",
        "colab_type": "text"
      },
      "source": [
        "<h2>Read Data</h2>\n",
        "<p>\n",
        "We use <code>pandas.read_csv()</code> function to read the csv file. In the bracket, we put the file path along with a quotation mark, so that pandas will read the file into a data frame from that address. The file path can be either an URL or your local file address.<br>\n",
        "Because the data does not include headers, we can add an argument <code>headers = None</code>  inside the  <code>read_csv()</code> method, so that pandas will not automatically set the first row as a header.<br>\n",
        "You can also assign the dataset to any variable you create.\n",
        "</p>"
      ]
    },
    {
      "cell_type": "markdown",
      "metadata": {
        "id": "3zJ0_hAJWNTa",
        "colab_type": "text"
      },
      "source": [
        "This dataset was hosted on IBM Cloud object click <a href=\"https://cocl.us/DA101EN_object_storage\">HERE</a> for free storage."
      ]
    },
    {
      "cell_type": "markdown",
      "metadata": {
        "id": "3rVkgODvWNTn",
        "colab_type": "text"
      },
      "source": [
        "After reading the dataset, we can use the <code>dataframe.head(n)</code> method to check the top n rows of the dataframe; where n is an integer. Contrary to <code>dataframe.head(n)</code>, <code>dataframe.tail(n)</code> will show you the bottom n rows of the dataframe.\n"
      ]
    },
    {
      "cell_type": "code",
      "metadata": {
        "id": "lMga3R4nWNTp",
        "colab_type": "code",
        "colab": {}
      },
      "source": [
        "# show the first 5 rows using dataframe.head() method\n",
        "print(\"The first 5 rows of the dataframe\") \n",
        "df.head(5)"
      ],
      "execution_count": null,
      "outputs": []
    },
    {
      "cell_type": "markdown",
      "metadata": {
        "id": "KwGC51t0WNTz",
        "colab_type": "text"
      },
      "source": [
        "<div class=\"alert alert-danger alertdanger\" style=\"margin-top: 20px\">\n",
        "<h1> Question #1: </h1>\n",
        "<b>check the bottom 10 rows of data frame \"df\".</b>\n",
        "</div>"
      ]
    },
    {
      "cell_type": "code",
      "metadata": {
        "id": "2MMLVz7lWNT2",
        "colab_type": "code",
        "colab": {}
      },
      "source": [
        "# Write your code below and press Shift+Enter to execute \n",
        "print(\"The last 10 rows of the dataframe\") \n",
        "df.tail(10)"
      ],
      "execution_count": null,
      "outputs": []
    },
    {
      "cell_type": "markdown",
      "metadata": {
        "id": "OgKBbnZcWNUD",
        "colab_type": "text"
      },
      "source": [
        "<h3>Add Headers</h3>\n",
        "<p>\n",
        "Take a look at our dataset; pandas automatically set the header by an integer from 0.\n",
        "</p>\n",
        "<p>\n",
        "To better describe our data we can introduce a header, this information is available at:  <a href=\"https://archive.ics.uci.edu/ml/datasets/Automobile\" target=\"_blank\">https://archive.ics.uci.edu/ml/datasets/Automobile</a>\n",
        "</p>\n",
        "<p>\n",
        "Thus, we have to add headers manually.\n",
        "</p>\n",
        "<p>\n",
        "Firstly, we create a list \"headers\" that include all column names in order.\n",
        "Then, we use <code>dataframe.columns = headers</code> to replace the headers by the list we created.\n",
        "</p>"
      ]
    },
    {
      "cell_type": "code",
      "metadata": {
        "id": "OhWarBRWWNUE",
        "colab_type": "code",
        "colab": {},
        "outputId": "99daf7b9-0033-4d7c-b349-f2bbe7938718"
      },
      "source": [
        "# create headers list\n",
        "headers = [\"symboling\",\"normalized-losses\",\"make\",\"fuel-type\",\"aspiration\", \"num-of-doors\",\"body-style\",\n",
        "         \"drive-wheels\",\"engine-location\",\"wheel-base\", \"length\",\"width\",\"height\",\"curb-weight\",\"engine-type\",\n",
        "         \"num-of-cylinders\", \"engine-size\",\"fuel-system\",\"bore\",\"stroke\",\"compression-ratio\",\"horsepower\",\n",
        "         \"peak-rpm\",\"city-mpg\",\"highway-mpg\",\"price\"]\n",
        "print(\"headers\\n\", headers)"
      ],
      "execution_count": null,
      "outputs": [
        {
          "output_type": "stream",
          "text": [
            "headers\n",
            " ['symboling', 'normalized-losses', 'make', 'fuel-type', 'aspiration', 'num-of-doors', 'body-style', 'drive-wheels', 'engine-location', 'wheel-base', 'length', 'width', 'height', 'curb-weight', 'engine-type', 'num-of-cylinders', 'engine-size', 'fuel-system', 'bore', 'stroke', 'compression-ratio', 'horsepower', 'peak-rpm', 'city-mpg', 'highway-mpg', 'price']\n"
          ],
          "name": "stdout"
        }
      ]
    },
    {
      "cell_type": "markdown",
      "metadata": {
        "id": "4NScUkufWNUR",
        "colab_type": "text"
      },
      "source": [
        " We replace headers and recheck our data frame"
      ]
    },
    {
      "cell_type": "code",
      "metadata": {
        "id": "S8khS8M_WNUT",
        "colab_type": "code",
        "colab": {}
      },
      "source": [
        "df.columns = headers\n",
        "df.head(10)"
      ],
      "execution_count": null,
      "outputs": []
    },
    {
      "cell_type": "markdown",
      "metadata": {
        "id": "5Hd7332QWNUf",
        "colab_type": "text"
      },
      "source": [
        "we can drop missing values along the column \"price\" as follows  "
      ]
    },
    {
      "cell_type": "code",
      "metadata": {
        "id": "jjspqO6zWNUg",
        "colab_type": "code",
        "colab": {}
      },
      "source": [
        "df.dropna(subset=[\"price\"], axis=0)"
      ],
      "execution_count": null,
      "outputs": []
    },
    {
      "cell_type": "markdown",
      "metadata": {
        "id": "2GEVq3X7WNUr",
        "colab_type": "text"
      },
      "source": [
        "Now, we have successfully read the raw dataset and add the correct headers into the data frame."
      ]
    },
    {
      "cell_type": "markdown",
      "metadata": {
        "id": "rtF3DhsyWNUs",
        "colab_type": "text"
      },
      "source": [
        " <div class=\"alert alert-danger alertdanger\" style=\"margin-top: 20px\">\n",
        "<h1> Question #2: </h1>\n",
        "<b>Find the name of the columns of the dataframe</b>\n",
        "</div>"
      ]
    },
    {
      "cell_type": "code",
      "metadata": {
        "id": "gTppR_12WNUu",
        "colab_type": "code",
        "colab": {},
        "outputId": "6d33253c-4554-4c39-de45-73024aefc105"
      },
      "source": [
        "# Write your code below and press Shift+Enter to execute \n",
        "print(\"The column names of the dataframe\",df.columns) \n"
      ],
      "execution_count": null,
      "outputs": [
        {
          "output_type": "stream",
          "text": [
            "The column names of the dataframe Index(['symboling', 'normalized-losses', 'make', 'fuel-type', 'aspiration',\n",
            "       'num-of-doors', 'body-style', 'drive-wheels', 'engine-location',\n",
            "       'wheel-base', 'length', 'width', 'height', 'curb-weight', 'engine-type',\n",
            "       'num-of-cylinders', 'engine-size', 'fuel-system', 'bore', 'stroke',\n",
            "       'compression-ratio', 'horsepower', 'peak-rpm', 'city-mpg',\n",
            "       'highway-mpg', 'price'],\n",
            "      dtype='object')\n"
          ],
          "name": "stdout"
        }
      ]
    },
    {
      "cell_type": "markdown",
      "metadata": {
        "id": "LEYf7vm8WNU5",
        "colab_type": "text"
      },
      "source": [
        "Double-click <b>here</b> for the solution.\n",
        "\n",
        "<!-- The answer is below:\n",
        "\n",
        "print(df.columns)\n",
        "\n",
        "-->"
      ]
    },
    {
      "cell_type": "markdown",
      "metadata": {
        "id": "QOOhawT5WNU9",
        "colab_type": "text"
      },
      "source": [
        " We can also read and save other file formats, we can use similar functions to **`pd.read_csv()`** and **`df.to_csv()`** for other data formats, the functions are listed in the following table:\n"
      ]
    },
    {
      "cell_type": "markdown",
      "metadata": {
        "id": "Ov5yJSuQWNU_",
        "colab_type": "text"
      },
      "source": [
        "<h2>Read/Save Other Data Formats</h2>\n",
        "\n",
        "\n",
        "\n",
        "| Data Formate  | Read           | Save             |\n",
        "| ------------- |:--------------:| ----------------:|\n",
        "| csv           | `pd.read_csv()`  |`df.to_csv()`     |\n",
        "| json          | `pd.read_json()` |`df.to_json()`    |\n",
        "| excel         | `pd.read_excel()`|`df.to_excel()`   |\n",
        "| hdf           | `pd.read_hdf()`  |`df.to_hdf()`     |\n",
        "| sql           | `pd.read_sql()`  |`df.to_sql()`     |\n",
        "| ...           |   ...          |       ...        |"
      ]
    },
    {
      "cell_type": "markdown",
      "metadata": {
        "id": "5EhrNoXvWNVC",
        "colab_type": "text"
      },
      "source": [
        "<h2>Data Types</h2>\n",
        "<p>\n",
        "Data has a variety of types.<br>\n",
        "The main types stored in Pandas dataframes are <b>object</b>, <b>float</b>, <b>int</b>, <b>bool</b> and <b>datetime64</b>. In order to better learn about each attribute, it is always good for us to know the data type of each column. In Pandas:\n",
        "</p>"
      ]
    },
    {
      "cell_type": "code",
      "metadata": {
        "id": "2xVCcJDYWNVE",
        "colab_type": "code",
        "colab": {}
      },
      "source": [
        "df.dtypes\n"
      ],
      "execution_count": null,
      "outputs": []
    },
    {
      "cell_type": "markdown",
      "metadata": {
        "id": "S9mu1W-fWNVO",
        "colab_type": "text"
      },
      "source": [
        "returns a Series with the data type of each column."
      ]
    },
    {
      "cell_type": "code",
      "metadata": {
        "scrolled": false,
        "id": "ZmCJvtDXWNVP",
        "colab_type": "code",
        "colab": {}
      },
      "source": [
        "# check the data type of data frame \"df\" by .dtypes\n",
        "print(df.dtypes)"
      ],
      "execution_count": null,
      "outputs": []
    },
    {
      "cell_type": "markdown",
      "metadata": {
        "id": "ds-2IaHfWNVX",
        "colab_type": "text"
      },
      "source": [
        "<p>\n",
        "As a result, as shown above, it is clear to see that the data type of \"symboling\" and \"curb-weight\" are <code>int64</code>, \"normalized-losses\" is <code>object</code>, and \"wheel-base\" is <code>float64</code>, etc.\n",
        "</p>\n",
        "<p>\n",
        "These data types can be changed; we will learn how to accomplish this in a later module.\n",
        "</p>"
      ]
    },
    {
      "cell_type": "markdown",
      "metadata": {
        "id": "hOWW8KIAWNVZ",
        "colab_type": "text"
      },
      "source": [
        "<h2>Describe</h2>\n",
        "If we would like to get a statistical summary of each column, such as count, column mean value, column standard deviation, etc. We use the describe method:"
      ]
    },
    {
      "cell_type": "markdown",
      "metadata": {
        "id": "Chobm9_QWNVb",
        "colab_type": "raw"
      },
      "source": [
        "dataframe.describe()"
      ]
    },
    {
      "cell_type": "markdown",
      "metadata": {
        "id": "rwaQv9osWNVc",
        "colab_type": "text"
      },
      "source": [
        "This method will provide various summary statistics, excluding <code>NaN</code> (Not a Number) values."
      ]
    },
    {
      "cell_type": "code",
      "metadata": {
        "id": "Nv6EpvoXWNVe",
        "colab_type": "code",
        "colab": {},
        "outputId": "74fa54cb-90d7-4ad9-d97d-172c6a67e3b2"
      },
      "source": [
        "df.describe()"
      ],
      "execution_count": null,
      "outputs": [
        {
          "output_type": "execute_result",
          "data": {
            "text/html": [
              "<div>\n",
              "<style scoped>\n",
              "    .dataframe tbody tr th:only-of-type {\n",
              "        vertical-align: middle;\n",
              "    }\n",
              "\n",
              "    .dataframe tbody tr th {\n",
              "        vertical-align: top;\n",
              "    }\n",
              "\n",
              "    .dataframe thead th {\n",
              "        text-align: right;\n",
              "    }\n",
              "</style>\n",
              "<table border=\"1\" class=\"dataframe\">\n",
              "  <thead>\n",
              "    <tr style=\"text-align: right;\">\n",
              "      <th></th>\n",
              "      <th>symboling</th>\n",
              "      <th>wheel-base</th>\n",
              "      <th>length</th>\n",
              "      <th>width</th>\n",
              "      <th>height</th>\n",
              "      <th>curb-weight</th>\n",
              "      <th>engine-size</th>\n",
              "      <th>compression-ratio</th>\n",
              "      <th>city-mpg</th>\n",
              "      <th>highway-mpg</th>\n",
              "    </tr>\n",
              "  </thead>\n",
              "  <tbody>\n",
              "    <tr>\n",
              "      <th>count</th>\n",
              "      <td>205.000000</td>\n",
              "      <td>205.000000</td>\n",
              "      <td>205.000000</td>\n",
              "      <td>205.000000</td>\n",
              "      <td>205.000000</td>\n",
              "      <td>205.000000</td>\n",
              "      <td>205.000000</td>\n",
              "      <td>205.000000</td>\n",
              "      <td>205.000000</td>\n",
              "      <td>205.000000</td>\n",
              "    </tr>\n",
              "    <tr>\n",
              "      <th>mean</th>\n",
              "      <td>0.834146</td>\n",
              "      <td>98.756585</td>\n",
              "      <td>174.049268</td>\n",
              "      <td>65.907805</td>\n",
              "      <td>53.724878</td>\n",
              "      <td>2555.565854</td>\n",
              "      <td>126.907317</td>\n",
              "      <td>10.142537</td>\n",
              "      <td>25.219512</td>\n",
              "      <td>30.751220</td>\n",
              "    </tr>\n",
              "    <tr>\n",
              "      <th>std</th>\n",
              "      <td>1.245307</td>\n",
              "      <td>6.021776</td>\n",
              "      <td>12.337289</td>\n",
              "      <td>2.145204</td>\n",
              "      <td>2.443522</td>\n",
              "      <td>520.680204</td>\n",
              "      <td>41.642693</td>\n",
              "      <td>3.972040</td>\n",
              "      <td>6.542142</td>\n",
              "      <td>6.886443</td>\n",
              "    </tr>\n",
              "    <tr>\n",
              "      <th>min</th>\n",
              "      <td>-2.000000</td>\n",
              "      <td>86.600000</td>\n",
              "      <td>141.100000</td>\n",
              "      <td>60.300000</td>\n",
              "      <td>47.800000</td>\n",
              "      <td>1488.000000</td>\n",
              "      <td>61.000000</td>\n",
              "      <td>7.000000</td>\n",
              "      <td>13.000000</td>\n",
              "      <td>16.000000</td>\n",
              "    </tr>\n",
              "    <tr>\n",
              "      <th>25%</th>\n",
              "      <td>0.000000</td>\n",
              "      <td>94.500000</td>\n",
              "      <td>166.300000</td>\n",
              "      <td>64.100000</td>\n",
              "      <td>52.000000</td>\n",
              "      <td>2145.000000</td>\n",
              "      <td>97.000000</td>\n",
              "      <td>8.600000</td>\n",
              "      <td>19.000000</td>\n",
              "      <td>25.000000</td>\n",
              "    </tr>\n",
              "    <tr>\n",
              "      <th>50%</th>\n",
              "      <td>1.000000</td>\n",
              "      <td>97.000000</td>\n",
              "      <td>173.200000</td>\n",
              "      <td>65.500000</td>\n",
              "      <td>54.100000</td>\n",
              "      <td>2414.000000</td>\n",
              "      <td>120.000000</td>\n",
              "      <td>9.000000</td>\n",
              "      <td>24.000000</td>\n",
              "      <td>30.000000</td>\n",
              "    </tr>\n",
              "    <tr>\n",
              "      <th>75%</th>\n",
              "      <td>2.000000</td>\n",
              "      <td>102.400000</td>\n",
              "      <td>183.100000</td>\n",
              "      <td>66.900000</td>\n",
              "      <td>55.500000</td>\n",
              "      <td>2935.000000</td>\n",
              "      <td>141.000000</td>\n",
              "      <td>9.400000</td>\n",
              "      <td>30.000000</td>\n",
              "      <td>34.000000</td>\n",
              "    </tr>\n",
              "    <tr>\n",
              "      <th>max</th>\n",
              "      <td>3.000000</td>\n",
              "      <td>120.900000</td>\n",
              "      <td>208.100000</td>\n",
              "      <td>72.300000</td>\n",
              "      <td>59.800000</td>\n",
              "      <td>4066.000000</td>\n",
              "      <td>326.000000</td>\n",
              "      <td>23.000000</td>\n",
              "      <td>49.000000</td>\n",
              "      <td>54.000000</td>\n",
              "    </tr>\n",
              "  </tbody>\n",
              "</table>\n",
              "</div>"
            ],
            "text/plain": [
              "        symboling  wheel-base      length       width      height  \\\n",
              "count  205.000000  205.000000  205.000000  205.000000  205.000000   \n",
              "mean     0.834146   98.756585  174.049268   65.907805   53.724878   \n",
              "std      1.245307    6.021776   12.337289    2.145204    2.443522   \n",
              "min     -2.000000   86.600000  141.100000   60.300000   47.800000   \n",
              "25%      0.000000   94.500000  166.300000   64.100000   52.000000   \n",
              "50%      1.000000   97.000000  173.200000   65.500000   54.100000   \n",
              "75%      2.000000  102.400000  183.100000   66.900000   55.500000   \n",
              "max      3.000000  120.900000  208.100000   72.300000   59.800000   \n",
              "\n",
              "       curb-weight  engine-size  compression-ratio    city-mpg  highway-mpg  \n",
              "count   205.000000   205.000000         205.000000  205.000000   205.000000  \n",
              "mean   2555.565854   126.907317          10.142537   25.219512    30.751220  \n",
              "std     520.680204    41.642693           3.972040    6.542142     6.886443  \n",
              "min    1488.000000    61.000000           7.000000   13.000000    16.000000  \n",
              "25%    2145.000000    97.000000           8.600000   19.000000    25.000000  \n",
              "50%    2414.000000   120.000000           9.000000   24.000000    30.000000  \n",
              "75%    2935.000000   141.000000           9.400000   30.000000    34.000000  \n",
              "max    4066.000000   326.000000          23.000000   49.000000    54.000000  "
            ]
          },
          "metadata": {
            "tags": []
          },
          "execution_count": 17
        }
      ]
    },
    {
      "cell_type": "markdown",
      "metadata": {
        "id": "t9abgAH3WNVm",
        "colab_type": "text"
      },
      "source": [
        "<p>\n",
        "This shows the statistical summary of all numeric-typed (int, float) columns.<br>\n",
        "For example, the attribute \"symboling\" has 205 counts, the mean value of this column is 0.83, the standard deviation is 1.25, the minimum value is -2, 25th percentile is 0, 50th percentile is 1, 75th percentile is 2, and the maximum value is 3.\n",
        "<br>\n",
        "However, what if we would also like to check all the columns including those that are of type object.\n",
        "<br><br>\n",
        "\n",
        "You can add an argument <code>include = \"all\"</code> inside the bracket. Let's try it again.\n",
        "</p>"
      ]
    },
    {
      "cell_type": "code",
      "metadata": {
        "id": "WoBXgQcIWNVn",
        "colab_type": "code",
        "colab": {},
        "outputId": "c9cb40c2-bd40-4b0d-fe0f-f58c57e3d55f"
      },
      "source": [
        "# describe all the columns in \"df\" \n",
        "df.describe(include = \"all\")"
      ],
      "execution_count": null,
      "outputs": [
        {
          "output_type": "execute_result",
          "data": {
            "text/html": [
              "<div>\n",
              "<style scoped>\n",
              "    .dataframe tbody tr th:only-of-type {\n",
              "        vertical-align: middle;\n",
              "    }\n",
              "\n",
              "    .dataframe tbody tr th {\n",
              "        vertical-align: top;\n",
              "    }\n",
              "\n",
              "    .dataframe thead th {\n",
              "        text-align: right;\n",
              "    }\n",
              "</style>\n",
              "<table border=\"1\" class=\"dataframe\">\n",
              "  <thead>\n",
              "    <tr style=\"text-align: right;\">\n",
              "      <th></th>\n",
              "      <th>symboling</th>\n",
              "      <th>normalized-losses</th>\n",
              "      <th>make</th>\n",
              "      <th>fuel-type</th>\n",
              "      <th>aspiration</th>\n",
              "      <th>num-of-doors</th>\n",
              "      <th>body-style</th>\n",
              "      <th>drive-wheels</th>\n",
              "      <th>engine-location</th>\n",
              "      <th>wheel-base</th>\n",
              "      <th>...</th>\n",
              "      <th>engine-size</th>\n",
              "      <th>fuel-system</th>\n",
              "      <th>bore</th>\n",
              "      <th>stroke</th>\n",
              "      <th>compression-ratio</th>\n",
              "      <th>horsepower</th>\n",
              "      <th>peak-rpm</th>\n",
              "      <th>city-mpg</th>\n",
              "      <th>highway-mpg</th>\n",
              "      <th>price</th>\n",
              "    </tr>\n",
              "  </thead>\n",
              "  <tbody>\n",
              "    <tr>\n",
              "      <th>count</th>\n",
              "      <td>205.000000</td>\n",
              "      <td>205</td>\n",
              "      <td>205</td>\n",
              "      <td>205</td>\n",
              "      <td>205</td>\n",
              "      <td>205</td>\n",
              "      <td>205</td>\n",
              "      <td>205</td>\n",
              "      <td>205</td>\n",
              "      <td>205.000000</td>\n",
              "      <td>...</td>\n",
              "      <td>205.000000</td>\n",
              "      <td>205</td>\n",
              "      <td>205</td>\n",
              "      <td>205</td>\n",
              "      <td>205.000000</td>\n",
              "      <td>205</td>\n",
              "      <td>205</td>\n",
              "      <td>205.000000</td>\n",
              "      <td>205.000000</td>\n",
              "      <td>205</td>\n",
              "    </tr>\n",
              "    <tr>\n",
              "      <th>unique</th>\n",
              "      <td>NaN</td>\n",
              "      <td>52</td>\n",
              "      <td>22</td>\n",
              "      <td>2</td>\n",
              "      <td>2</td>\n",
              "      <td>3</td>\n",
              "      <td>5</td>\n",
              "      <td>3</td>\n",
              "      <td>2</td>\n",
              "      <td>NaN</td>\n",
              "      <td>...</td>\n",
              "      <td>NaN</td>\n",
              "      <td>8</td>\n",
              "      <td>39</td>\n",
              "      <td>37</td>\n",
              "      <td>NaN</td>\n",
              "      <td>60</td>\n",
              "      <td>24</td>\n",
              "      <td>NaN</td>\n",
              "      <td>NaN</td>\n",
              "      <td>187</td>\n",
              "    </tr>\n",
              "    <tr>\n",
              "      <th>top</th>\n",
              "      <td>NaN</td>\n",
              "      <td>?</td>\n",
              "      <td>toyota</td>\n",
              "      <td>gas</td>\n",
              "      <td>std</td>\n",
              "      <td>four</td>\n",
              "      <td>sedan</td>\n",
              "      <td>fwd</td>\n",
              "      <td>front</td>\n",
              "      <td>NaN</td>\n",
              "      <td>...</td>\n",
              "      <td>NaN</td>\n",
              "      <td>mpfi</td>\n",
              "      <td>3.62</td>\n",
              "      <td>3.40</td>\n",
              "      <td>NaN</td>\n",
              "      <td>68</td>\n",
              "      <td>5500</td>\n",
              "      <td>NaN</td>\n",
              "      <td>NaN</td>\n",
              "      <td>?</td>\n",
              "    </tr>\n",
              "    <tr>\n",
              "      <th>freq</th>\n",
              "      <td>NaN</td>\n",
              "      <td>41</td>\n",
              "      <td>32</td>\n",
              "      <td>185</td>\n",
              "      <td>168</td>\n",
              "      <td>114</td>\n",
              "      <td>96</td>\n",
              "      <td>120</td>\n",
              "      <td>202</td>\n",
              "      <td>NaN</td>\n",
              "      <td>...</td>\n",
              "      <td>NaN</td>\n",
              "      <td>94</td>\n",
              "      <td>23</td>\n",
              "      <td>20</td>\n",
              "      <td>NaN</td>\n",
              "      <td>19</td>\n",
              "      <td>37</td>\n",
              "      <td>NaN</td>\n",
              "      <td>NaN</td>\n",
              "      <td>4</td>\n",
              "    </tr>\n",
              "    <tr>\n",
              "      <th>mean</th>\n",
              "      <td>0.834146</td>\n",
              "      <td>NaN</td>\n",
              "      <td>NaN</td>\n",
              "      <td>NaN</td>\n",
              "      <td>NaN</td>\n",
              "      <td>NaN</td>\n",
              "      <td>NaN</td>\n",
              "      <td>NaN</td>\n",
              "      <td>NaN</td>\n",
              "      <td>98.756585</td>\n",
              "      <td>...</td>\n",
              "      <td>126.907317</td>\n",
              "      <td>NaN</td>\n",
              "      <td>NaN</td>\n",
              "      <td>NaN</td>\n",
              "      <td>10.142537</td>\n",
              "      <td>NaN</td>\n",
              "      <td>NaN</td>\n",
              "      <td>25.219512</td>\n",
              "      <td>30.751220</td>\n",
              "      <td>NaN</td>\n",
              "    </tr>\n",
              "    <tr>\n",
              "      <th>std</th>\n",
              "      <td>1.245307</td>\n",
              "      <td>NaN</td>\n",
              "      <td>NaN</td>\n",
              "      <td>NaN</td>\n",
              "      <td>NaN</td>\n",
              "      <td>NaN</td>\n",
              "      <td>NaN</td>\n",
              "      <td>NaN</td>\n",
              "      <td>NaN</td>\n",
              "      <td>6.021776</td>\n",
              "      <td>...</td>\n",
              "      <td>41.642693</td>\n",
              "      <td>NaN</td>\n",
              "      <td>NaN</td>\n",
              "      <td>NaN</td>\n",
              "      <td>3.972040</td>\n",
              "      <td>NaN</td>\n",
              "      <td>NaN</td>\n",
              "      <td>6.542142</td>\n",
              "      <td>6.886443</td>\n",
              "      <td>NaN</td>\n",
              "    </tr>\n",
              "    <tr>\n",
              "      <th>min</th>\n",
              "      <td>-2.000000</td>\n",
              "      <td>NaN</td>\n",
              "      <td>NaN</td>\n",
              "      <td>NaN</td>\n",
              "      <td>NaN</td>\n",
              "      <td>NaN</td>\n",
              "      <td>NaN</td>\n",
              "      <td>NaN</td>\n",
              "      <td>NaN</td>\n",
              "      <td>86.600000</td>\n",
              "      <td>...</td>\n",
              "      <td>61.000000</td>\n",
              "      <td>NaN</td>\n",
              "      <td>NaN</td>\n",
              "      <td>NaN</td>\n",
              "      <td>7.000000</td>\n",
              "      <td>NaN</td>\n",
              "      <td>NaN</td>\n",
              "      <td>13.000000</td>\n",
              "      <td>16.000000</td>\n",
              "      <td>NaN</td>\n",
              "    </tr>\n",
              "    <tr>\n",
              "      <th>25%</th>\n",
              "      <td>0.000000</td>\n",
              "      <td>NaN</td>\n",
              "      <td>NaN</td>\n",
              "      <td>NaN</td>\n",
              "      <td>NaN</td>\n",
              "      <td>NaN</td>\n",
              "      <td>NaN</td>\n",
              "      <td>NaN</td>\n",
              "      <td>NaN</td>\n",
              "      <td>94.500000</td>\n",
              "      <td>...</td>\n",
              "      <td>97.000000</td>\n",
              "      <td>NaN</td>\n",
              "      <td>NaN</td>\n",
              "      <td>NaN</td>\n",
              "      <td>8.600000</td>\n",
              "      <td>NaN</td>\n",
              "      <td>NaN</td>\n",
              "      <td>19.000000</td>\n",
              "      <td>25.000000</td>\n",
              "      <td>NaN</td>\n",
              "    </tr>\n",
              "    <tr>\n",
              "      <th>50%</th>\n",
              "      <td>1.000000</td>\n",
              "      <td>NaN</td>\n",
              "      <td>NaN</td>\n",
              "      <td>NaN</td>\n",
              "      <td>NaN</td>\n",
              "      <td>NaN</td>\n",
              "      <td>NaN</td>\n",
              "      <td>NaN</td>\n",
              "      <td>NaN</td>\n",
              "      <td>97.000000</td>\n",
              "      <td>...</td>\n",
              "      <td>120.000000</td>\n",
              "      <td>NaN</td>\n",
              "      <td>NaN</td>\n",
              "      <td>NaN</td>\n",
              "      <td>9.000000</td>\n",
              "      <td>NaN</td>\n",
              "      <td>NaN</td>\n",
              "      <td>24.000000</td>\n",
              "      <td>30.000000</td>\n",
              "      <td>NaN</td>\n",
              "    </tr>\n",
              "    <tr>\n",
              "      <th>75%</th>\n",
              "      <td>2.000000</td>\n",
              "      <td>NaN</td>\n",
              "      <td>NaN</td>\n",
              "      <td>NaN</td>\n",
              "      <td>NaN</td>\n",
              "      <td>NaN</td>\n",
              "      <td>NaN</td>\n",
              "      <td>NaN</td>\n",
              "      <td>NaN</td>\n",
              "      <td>102.400000</td>\n",
              "      <td>...</td>\n",
              "      <td>141.000000</td>\n",
              "      <td>NaN</td>\n",
              "      <td>NaN</td>\n",
              "      <td>NaN</td>\n",
              "      <td>9.400000</td>\n",
              "      <td>NaN</td>\n",
              "      <td>NaN</td>\n",
              "      <td>30.000000</td>\n",
              "      <td>34.000000</td>\n",
              "      <td>NaN</td>\n",
              "    </tr>\n",
              "    <tr>\n",
              "      <th>max</th>\n",
              "      <td>3.000000</td>\n",
              "      <td>NaN</td>\n",
              "      <td>NaN</td>\n",
              "      <td>NaN</td>\n",
              "      <td>NaN</td>\n",
              "      <td>NaN</td>\n",
              "      <td>NaN</td>\n",
              "      <td>NaN</td>\n",
              "      <td>NaN</td>\n",
              "      <td>120.900000</td>\n",
              "      <td>...</td>\n",
              "      <td>326.000000</td>\n",
              "      <td>NaN</td>\n",
              "      <td>NaN</td>\n",
              "      <td>NaN</td>\n",
              "      <td>23.000000</td>\n",
              "      <td>NaN</td>\n",
              "      <td>NaN</td>\n",
              "      <td>49.000000</td>\n",
              "      <td>54.000000</td>\n",
              "      <td>NaN</td>\n",
              "    </tr>\n",
              "  </tbody>\n",
              "</table>\n",
              "<p>11 rows × 26 columns</p>\n",
              "</div>"
            ],
            "text/plain": [
              "         symboling normalized-losses    make fuel-type aspiration  \\\n",
              "count   205.000000               205     205       205        205   \n",
              "unique         NaN                52      22         2          2   \n",
              "top            NaN                 ?  toyota       gas        std   \n",
              "freq           NaN                41      32       185        168   \n",
              "mean      0.834146               NaN     NaN       NaN        NaN   \n",
              "std       1.245307               NaN     NaN       NaN        NaN   \n",
              "min      -2.000000               NaN     NaN       NaN        NaN   \n",
              "25%       0.000000               NaN     NaN       NaN        NaN   \n",
              "50%       1.000000               NaN     NaN       NaN        NaN   \n",
              "75%       2.000000               NaN     NaN       NaN        NaN   \n",
              "max       3.000000               NaN     NaN       NaN        NaN   \n",
              "\n",
              "       num-of-doors body-style drive-wheels engine-location  wheel-base  ...  \\\n",
              "count           205        205          205             205  205.000000  ...   \n",
              "unique            3          5            3               2         NaN  ...   \n",
              "top            four      sedan          fwd           front         NaN  ...   \n",
              "freq            114         96          120             202         NaN  ...   \n",
              "mean            NaN        NaN          NaN             NaN   98.756585  ...   \n",
              "std             NaN        NaN          NaN             NaN    6.021776  ...   \n",
              "min             NaN        NaN          NaN             NaN   86.600000  ...   \n",
              "25%             NaN        NaN          NaN             NaN   94.500000  ...   \n",
              "50%             NaN        NaN          NaN             NaN   97.000000  ...   \n",
              "75%             NaN        NaN          NaN             NaN  102.400000  ...   \n",
              "max             NaN        NaN          NaN             NaN  120.900000  ...   \n",
              "\n",
              "        engine-size  fuel-system  bore  stroke compression-ratio horsepower  \\\n",
              "count    205.000000          205   205     205        205.000000        205   \n",
              "unique          NaN            8    39      37               NaN         60   \n",
              "top             NaN         mpfi  3.62    3.40               NaN         68   \n",
              "freq            NaN           94    23      20               NaN         19   \n",
              "mean     126.907317          NaN   NaN     NaN         10.142537        NaN   \n",
              "std       41.642693          NaN   NaN     NaN          3.972040        NaN   \n",
              "min       61.000000          NaN   NaN     NaN          7.000000        NaN   \n",
              "25%       97.000000          NaN   NaN     NaN          8.600000        NaN   \n",
              "50%      120.000000          NaN   NaN     NaN          9.000000        NaN   \n",
              "75%      141.000000          NaN   NaN     NaN          9.400000        NaN   \n",
              "max      326.000000          NaN   NaN     NaN         23.000000        NaN   \n",
              "\n",
              "        peak-rpm    city-mpg highway-mpg price  \n",
              "count        205  205.000000  205.000000   205  \n",
              "unique        24         NaN         NaN   187  \n",
              "top         5500         NaN         NaN     ?  \n",
              "freq          37         NaN         NaN     4  \n",
              "mean         NaN   25.219512   30.751220   NaN  \n",
              "std          NaN    6.542142    6.886443   NaN  \n",
              "min          NaN   13.000000   16.000000   NaN  \n",
              "25%          NaN   19.000000   25.000000   NaN  \n",
              "50%          NaN   24.000000   30.000000   NaN  \n",
              "75%          NaN   30.000000   34.000000   NaN  \n",
              "max          NaN   49.000000   54.000000   NaN  \n",
              "\n",
              "[11 rows x 26 columns]"
            ]
          },
          "metadata": {
            "tags": []
          },
          "execution_count": 18
        }
      ]
    },
    {
      "cell_type": "markdown",
      "metadata": {
        "id": "QfEi09bNWNV0",
        "colab_type": "text"
      },
      "source": [
        "<p>\n",
        "Now, it provides the statistical summary of all the columns, including object-typed attributes.<br>\n",
        "We can now see how many unique values, which is the top value and the frequency of top value in the object-typed columns.<br>\n",
        "Some values in the table above show as \"NaN\", this is because those numbers are not available regarding a particular column type.<br>\n",
        "</p>"
      ]
    },
    {
      "cell_type": "markdown",
      "metadata": {
        "id": "5sLaXXdxWNV2",
        "colab_type": "text"
      },
      "source": [
        "<div class=\"alert alert-danger alertdanger\" style=\"margin-top: 20px\">\n",
        "<h1> Question #3: </h1>\n",
        "\n",
        "<p>\n",
        "You can select the columns of a data frame by indicating the name of  each column, for example, you can select the three columns as follows:\n",
        "</p>\n",
        "<p>\n",
        "    <code>dataframe[[' column 1 ',column 2', 'column 3']]</code>\n",
        "</p>\n",
        "<p>\n",
        "Where \"column\" is the name of the column, you can apply the method  \".describe()\" to get the statistics of those columns as follows:\n",
        "</p>\n",
        "<p>\n",
        "    <code>dataframe[[' column 1 ',column 2', 'column 3'] ].describe()</code>\n",
        "</p>\n",
        "\n",
        "Apply the  method to \".describe()\" to the columns 'length' and 'compression-ratio'.\n",
        "</div>"
      ]
    },
    {
      "cell_type": "code",
      "metadata": {
        "id": "Vu_mqEg7WNV5",
        "colab_type": "code",
        "colab": {},
        "outputId": "86f5f38b-35ed-4e2e-b020-a435ea6bdded"
      },
      "source": [
        "# Write your code below and press Shift+Enter to execute \n",
        "df[['length', 'compression-ratio']].describe()"
      ],
      "execution_count": null,
      "outputs": [
        {
          "output_type": "execute_result",
          "data": {
            "text/html": [
              "<div>\n",
              "<style scoped>\n",
              "    .dataframe tbody tr th:only-of-type {\n",
              "        vertical-align: middle;\n",
              "    }\n",
              "\n",
              "    .dataframe tbody tr th {\n",
              "        vertical-align: top;\n",
              "    }\n",
              "\n",
              "    .dataframe thead th {\n",
              "        text-align: right;\n",
              "    }\n",
              "</style>\n",
              "<table border=\"1\" class=\"dataframe\">\n",
              "  <thead>\n",
              "    <tr style=\"text-align: right;\">\n",
              "      <th></th>\n",
              "      <th>length</th>\n",
              "      <th>compression-ratio</th>\n",
              "    </tr>\n",
              "  </thead>\n",
              "  <tbody>\n",
              "    <tr>\n",
              "      <th>count</th>\n",
              "      <td>205.000000</td>\n",
              "      <td>205.000000</td>\n",
              "    </tr>\n",
              "    <tr>\n",
              "      <th>mean</th>\n",
              "      <td>174.049268</td>\n",
              "      <td>10.142537</td>\n",
              "    </tr>\n",
              "    <tr>\n",
              "      <th>std</th>\n",
              "      <td>12.337289</td>\n",
              "      <td>3.972040</td>\n",
              "    </tr>\n",
              "    <tr>\n",
              "      <th>min</th>\n",
              "      <td>141.100000</td>\n",
              "      <td>7.000000</td>\n",
              "    </tr>\n",
              "    <tr>\n",
              "      <th>25%</th>\n",
              "      <td>166.300000</td>\n",
              "      <td>8.600000</td>\n",
              "    </tr>\n",
              "    <tr>\n",
              "      <th>50%</th>\n",
              "      <td>173.200000</td>\n",
              "      <td>9.000000</td>\n",
              "    </tr>\n",
              "    <tr>\n",
              "      <th>75%</th>\n",
              "      <td>183.100000</td>\n",
              "      <td>9.400000</td>\n",
              "    </tr>\n",
              "    <tr>\n",
              "      <th>max</th>\n",
              "      <td>208.100000</td>\n",
              "      <td>23.000000</td>\n",
              "    </tr>\n",
              "  </tbody>\n",
              "</table>\n",
              "</div>"
            ],
            "text/plain": [
              "           length  compression-ratio\n",
              "count  205.000000         205.000000\n",
              "mean   174.049268          10.142537\n",
              "std     12.337289           3.972040\n",
              "min    141.100000           7.000000\n",
              "25%    166.300000           8.600000\n",
              "50%    173.200000           9.000000\n",
              "75%    183.100000           9.400000\n",
              "max    208.100000          23.000000"
            ]
          },
          "metadata": {
            "tags": []
          },
          "execution_count": 23
        }
      ]
    },
    {
      "cell_type": "markdown",
      "metadata": {
        "id": "64_JoYSoWNWC",
        "colab_type": "text"
      },
      "source": [
        "Double-click <b>here</b> for the solution.\n",
        "\n",
        "<!-- The answer is below:\n",
        "\n",
        "df[['length', 'compression-ratio']].describe()\n",
        "\n",
        "-->\n"
      ]
    },
    {
      "cell_type": "markdown",
      "metadata": {
        "id": "MBBcfkiuWNWD",
        "colab_type": "text"
      },
      "source": [
        "<h2>Info</h2>\n",
        "Another method you can use to check your dataset is:"
      ]
    },
    {
      "cell_type": "markdown",
      "metadata": {
        "id": "0PHVV4q9WNWF",
        "colab_type": "raw"
      },
      "source": [
        "dataframe.info"
      ]
    },
    {
      "cell_type": "markdown",
      "metadata": {
        "id": "yGgBhDm7WNWH",
        "colab_type": "text"
      },
      "source": [
        "It provide a concise summary of your DataFrame."
      ]
    },
    {
      "cell_type": "code",
      "metadata": {
        "id": "WUvRKKBpWNWI",
        "colab_type": "code",
        "colab": {
          "base_uri": "https://localhost:8080/",
          "height": 255
        },
        "outputId": "6510da4c-c4e2-45d6-964d-371257677032"
      },
      "source": [
        "# look at the info of \"df\"\n",
        "df.info"
      ],
      "execution_count": 3,
      "outputs": [
        {
          "output_type": "execute_result",
          "data": {
            "text/plain": [
              "<bound method DataFrame.info of      0    1            2       3      4     5   ...    20   21    22  23  24     25\n",
              "0     3    ?  alfa-romero     gas    std   two  ...   9.0  111  5000  21  27  13495\n",
              "1     3    ?  alfa-romero     gas    std   two  ...   9.0  111  5000  21  27  16500\n",
              "2     1    ?  alfa-romero     gas    std   two  ...   9.0  154  5000  19  26  16500\n",
              "3     2  164         audi     gas    std  four  ...  10.0  102  5500  24  30  13950\n",
              "4     2  164         audi     gas    std  four  ...   8.0  115  5500  18  22  17450\n",
              "..   ..  ...          ...     ...    ...   ...  ...   ...  ...   ...  ..  ..    ...\n",
              "200  -1   95        volvo     gas    std  four  ...   9.5  114  5400  23  28  16845\n",
              "201  -1   95        volvo     gas  turbo  four  ...   8.7  160  5300  19  25  19045\n",
              "202  -1   95        volvo     gas    std  four  ...   8.8  134  5500  18  23  21485\n",
              "203  -1   95        volvo  diesel  turbo  four  ...  23.0  106  4800  26  27  22470\n",
              "204  -1   95        volvo     gas  turbo  four  ...   9.5  114  5400  19  25  22625\n",
              "\n",
              "[205 rows x 26 columns]>"
            ]
          },
          "metadata": {
            "tags": []
          },
          "execution_count": 3
        }
      ]
    },
    {
      "cell_type": "markdown",
      "metadata": {
        "id": "jdrR2V2YWNWT",
        "colab_type": "text"
      },
      "source": [
        "<p>\n",
        "Here we are able to see the information of our dataframe, with the top 30 rows and the bottom 30 rows.\n",
        "<br><br>\n",
        "And, it also shows us the whole data frame has 205 rows and 26 columns in total.\n",
        "</p>"
      ]
    },
    {
      "cell_type": "markdown",
      "metadata": {
        "id": "eXjsQYmMWNWV",
        "colab_type": "text"
      },
      "source": [
        "<h1>Excellent! You have just completed the  Introduction  Notebook!</h1>"
      ]
    }
  ]
}